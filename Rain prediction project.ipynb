{
  "metadata": {
    "kernelspec": {
      "name": "python",
      "display_name": "Python (Pyodide)",
      "language": "python"
    },
    "language_info": {
      "codemirror_mode": {
        "name": "python",
        "version": 3
      },
      "file_extension": ".py",
      "mimetype": "text/x-python",
      "name": "python",
      "nbconvert_exporter": "python",
      "pygments_lexer": "ipython3",
      "version": "3.8"
    },
    "prev_pub_hash": "b45b938fc7420206c5fa3f040f896f2a578fd1045d763cf82b4c02f8772d2aee"
  },
  "nbformat_minor": 4,
  "nbformat": 4,
  "cells": [
    {
      "cell_type": "markdown",
      "source": "<p style=\"text-align:center\">\n    <a href=\"https://skills.network/?utm_medium=Exinfluencer&utm_source=Exinfluencer&utm_content=000026UJ&utm_term=10006555&utm_id=NA-SkillsNetwork-Channel-SkillsNetworkCoursesIBMDeveloperSkillsNetworkML0101ENSkillsNetwork20718538-2022-01-01\" target=\"_blank\">\n    <img src=\"https://cf-courses-data.s3.us.cloud-object-storage.appdomain.cloud/assets/logos/SN_web_lightmode.png\" width=\"200\" alt=\"Skills Network Logo\">\n    </a>\n</p>\n\n<h1 align=\"center\"><font size=\"5\">Final Project: Classification with Python</font></h1>\n",
      "metadata": {}
    },
    {
      "cell_type": "markdown",
      "source": "<h2>Table of Contents</h2>\n<div class=\"alert alert-block alert-info\" style=\"margin-top: 20px\">\n    <ul>\n    <li><a href=\"https://#Section_1\">Instructions</a></li>\n    <li><a href=\"https://#Section_2\">About the Data</a></li>\n    <li><a href=\"https://#Section_3\">Importing Data </a></li>\n    <li><a href=\"https://#Section_4\">Data Preprocessing</a> </li>\n    <li><a href=\"https://#Section_5\">One Hot Encoding </a></li>\n    <li><a href=\"https://#Section_6\">Train and Test Data Split </a></li>\n    <li><a href=\"https://#Section_7\">Train Logistic Regression, KNN, Decision Tree, SVM, and Linear Regression models and return their appropriate accuracy scores</a></li>\n</a></li>\n</div>\n<p>Estimated Time Needed: <strong>180 min</strong></p>\n</div>\n\n<hr>\n",
      "metadata": {}
    },
    {
      "cell_type": "markdown",
      "source": "# Instructions\n",
      "metadata": {}
    },
    {
      "cell_type": "markdown",
      "source": "In this notebook, you will  practice all the classification algorithms that we have learned in this course.\n\n\nBelow, is where we are going to use the classification algorithms to create a model based on our training data and evaluate our testing data using evaluation metrics learned in the course.\n\nWe will use some of the algorithms taught in the course, specifically:\n\n1. Linear Regression\n2. KNN\n3. Decision Trees\n4. Logistic Regression\n5. SVM\n\nWe will evaluate our models using:\n\n1.  Accuracy Score\n2.  Jaccard Index\n3.  F1-Score\n4.  LogLoss\n5.  Mean Absolute Error\n6.  Mean Squared Error\n7.  R2-Score\n\nFinally, you will use your models to generate the report at the end. \n",
      "metadata": {}
    },
    {
      "cell_type": "markdown",
      "source": "# About The Dataset\n",
      "metadata": {}
    },
    {
      "cell_type": "markdown",
      "source": "The original source of the data is Australian Government's Bureau of Meteorology and the latest data can be gathered from [http://www.bom.gov.au/climate/dwo/](http://www.bom.gov.au/climate/dwo/?utm_medium=Exinfluencer&utm_source=Exinfluencer&utm_content=000026UJ&utm_term=10006555&utm_id=NA-SkillsNetwork-Channel-SkillsNetworkCoursesIBMDeveloperSkillsNetworkML0101ENSkillsNetwork20718538-2022-01-01).\n\nThe dataset to be used has extra columns like 'RainToday' and our target is 'RainTomorrow', which was gathered from the Rattle at [https://bitbucket.org/kayontoga/rattle/src/master/data/weatherAUS.RData](https://bitbucket.org/kayontoga/rattle/src/master/data/weatherAUS.RData?utm_medium=Exinfluencer&utm_source=Exinfluencer&utm_content=000026UJ&utm_term=10006555&utm_id=NA-SkillsNetwork-Channel-SkillsNetworkCoursesIBMDeveloperSkillsNetworkML0101ENSkillsNetwork20718538-2022-01-01)\n\n\n",
      "metadata": {}
    },
    {
      "cell_type": "markdown",
      "source": "This dataset contains observations of weather metrics for each day from 2008 to 2017. The **weatherAUS.csv** dataset includes the following fields:\n\n| Field         | Description                                           | Unit            | Type   |\n| ------------- | ----------------------------------------------------- | --------------- | ------ |\n| Date          | Date of the Observation in YYYY-MM-DD                 | Date            | object |\n| Location      | Location of the Observation                           | Location        | object |\n| MinTemp       | Minimum temperature                                   | Celsius         | float  |\n| MaxTemp       | Maximum temperature                                   | Celsius         | float  |\n| Rainfall      | Amount of rainfall                                    | Millimeters     | float  |\n| Evaporation   | Amount of evaporation                                 | Millimeters     | float  |\n| Sunshine      | Amount of bright sunshine                             | hours           | float  |\n| WindGustDir   | Direction of the strongest gust                       | Compass Points  | object |\n| WindGustSpeed | Speed of the strongest gust                           | Kilometers/Hour | object |\n| WindDir9am    | Wind direction averaged of 10 minutes prior to 9am    | Compass Points  | object |\n| WindDir3pm    | Wind direction averaged of 10 minutes prior to 3pm    | Compass Points  | object |\n| WindSpeed9am  | Wind speed averaged of 10 minutes prior to 9am        | Kilometers/Hour | float  |\n| WindSpeed3pm  | Wind speed averaged of 10 minutes prior to 3pm        | Kilometers/Hour | float  |\n| Humidity9am   | Humidity at 9am                                       | Percent         | float  |\n| Humidity3pm   | Humidity at 3pm                                       | Percent         | float  |\n| Pressure9am   | Atmospheric pressure reduced to mean sea level at 9am | Hectopascal     | float  |\n| Pressure3pm   | Atmospheric pressure reduced to mean sea level at 3pm | Hectopascal     | float  |\n| Cloud9am      | Fraction of the sky obscured by cloud at 9am          | Eights          | float  |\n| Cloud3pm      | Fraction of the sky obscured by cloud at 3pm          | Eights          | float  |\n| Temp9am       | Temperature at 9am                                    | Celsius         | float  |\n| Temp3pm       | Temperature at 3pm                                    | Celsius         | float  |\n| RainToday     | If there was rain today                               | Yes/No          | object |\n| RainTomorrow  | If there is rain tomorrow                             | Yes/No          | float  |\n\nColumn definitions were gathered from [http://www.bom.gov.au/climate/dwo/IDCJDW0000.shtml](http://www.bom.gov.au/climate/dwo/IDCJDW0000.shtml?utm_medium=Exinfluencer&utm_source=Exinfluencer&utm_content=000026UJ&utm_term=10006555&utm_id=NA-SkillsNetwork-Channel-SkillsNetworkCoursesIBMDeveloperSkillsNetworkML0101ENSkillsNetwork20718538-2022-01-01)\n\n",
      "metadata": {}
    },
    {
      "cell_type": "markdown",
      "source": "## **Import the required libraries**\n",
      "metadata": {}
    },
    {
      "cell_type": "code",
      "source": "# All Libraries required for this lab are listed below. The libraries pre-installed on Skills Network Labs are commented.\n# !mamba install -qy pandas==1.3.4 numpy==1.21.4 seaborn==0.9.0 matplotlib==3.5.0 scikit-learn==0.20.1\n# Note: If your environment doesn't support \"!mamba install\", use \"!pip install\"",
      "metadata": {},
      "outputs": [],
      "execution_count": null
    },
    {
      "cell_type": "code",
      "source": "# Surpress warnings:\ndef warn(*args, **kwargs):\n    pass\nimport warnings\nwarnings.warn = warn",
      "metadata": {
        "trusted": true
      },
      "outputs": [],
      "execution_count": 1
    },
    {
      "cell_type": "code",
      "source": "import pandas as pd\nfrom sklearn.linear_model import LogisticRegression\nfrom sklearn.linear_model import LinearRegression\nfrom sklearn import preprocessing\nimport numpy as np\nfrom sklearn.neighbors import KNeighborsClassifier\nfrom sklearn.model_selection import train_test_split\nfrom sklearn.neighbors import KNeighborsClassifier\nfrom sklearn.tree import DecisionTreeClassifier\nfrom sklearn import svm\nfrom sklearn.metrics import jaccard_score\nfrom sklearn.metrics import f1_score\nfrom sklearn.metrics import log_loss\nfrom sklearn.metrics import confusion_matrix, accuracy_score\nimport sklearn.metrics as metrics",
      "metadata": {
        "trusted": true
      },
      "outputs": [],
      "execution_count": 3
    },
    {
      "cell_type": "markdown",
      "source": "### Importing the Dataset\n",
      "metadata": {}
    },
    {
      "cell_type": "code",
      "source": "from pyodide.http import pyfetch\n\nasync def download(url, filename):\n    response = await pyfetch(url)\n    if response.status == 200:\n        with open(filename, \"wb\") as f:\n            f.write(await response.bytes())",
      "metadata": {
        "trusted": true
      },
      "outputs": [],
      "execution_count": 4
    },
    {
      "cell_type": "code",
      "source": "path='https://cf-courses-data.s3.us.cloud-object-storage.appdomain.cloud/IBMDeveloperSkillsNetwork-ML0101EN-SkillUp/labs/ML-FinalAssignment/Weather_Data.csv'",
      "metadata": {
        "trusted": true
      },
      "outputs": [],
      "execution_count": 5
    },
    {
      "cell_type": "code",
      "source": "await download(path, \"Weather_Data.csv\")\nfilename =\"Weather_Data.csv\"",
      "metadata": {
        "trusted": true
      },
      "outputs": [],
      "execution_count": 6
    },
    {
      "cell_type": "code",
      "source": "df = pd.read_csv(\"Weather_Data.csv\")",
      "metadata": {
        "trusted": true
      },
      "outputs": [],
      "execution_count": 7
    },
    {
      "cell_type": "markdown",
      "source": "> Note: This version of the lab is designed for JupyterLite, which necessitates downloading the dataset to the interface. However, when working with the downloaded version of this notebook on your local machines (Jupyter Anaconda), you can simply **skip the steps above of \"Importing the Dataset\"** and use the URL directly in the `pandas.read_csv()` function. You can uncomment and run the statements in the cell below.\n",
      "metadata": {}
    },
    {
      "cell_type": "code",
      "source": "#filepath = \"https://cf-courses-data.s3.us.cloud-object-storage.appdomain.cloud/IBMDeveloperSkillsNetwork-ML0101EN-SkillUp/labs/ML-FinalAssignment/Weather_Data.csv\"\n#df = pd.read_csv(filepath)",
      "metadata": {
        "trusted": true
      },
      "outputs": [],
      "execution_count": 8
    },
    {
      "cell_type": "code",
      "source": "df.head()",
      "metadata": {
        "trusted": true
      },
      "outputs": [
        {
          "execution_count": 9,
          "output_type": "execute_result",
          "data": {
            "text/plain": "       Date  MinTemp  MaxTemp  Rainfall  Evaporation  Sunshine WindGustDir  \\\n0  2/1/2008     19.5     22.4      15.6          6.2       0.0           W   \n1  2/2/2008     19.5     25.6       6.0          3.4       2.7           W   \n2  2/3/2008     21.6     24.5       6.6          2.4       0.1           W   \n3  2/4/2008     20.2     22.8      18.8          2.2       0.0           W   \n4  2/5/2008     19.7     25.7      77.4          4.8       0.0           W   \n\n   WindGustSpeed WindDir9am WindDir3pm  ...  Humidity9am  Humidity3pm  \\\n0             41          S        SSW  ...           92           84   \n1             41          W          E  ...           83           73   \n2             41        ESE        ESE  ...           88           86   \n3             41        NNE          E  ...           83           90   \n4             41        NNE          W  ...           88           74   \n\n   Pressure9am  Pressure3pm  Cloud9am  Cloud3pm  Temp9am  Temp3pm  RainToday  \\\n0       1017.6       1017.4         8         8     20.7     20.9        Yes   \n1       1017.9       1016.4         7         7     22.4     24.8        Yes   \n2       1016.7       1015.6         7         8     23.5     23.0        Yes   \n3       1014.2       1011.8         8         8     21.4     20.9        Yes   \n4       1008.3       1004.8         8         8     22.5     25.5        Yes   \n\n   RainTomorrow  \n0           Yes  \n1           Yes  \n2           Yes  \n3           Yes  \n4           Yes  \n\n[5 rows x 22 columns]",
            "text/html": "<div>\n<style scoped>\n    .dataframe tbody tr th:only-of-type {\n        vertical-align: middle;\n    }\n\n    .dataframe tbody tr th {\n        vertical-align: top;\n    }\n\n    .dataframe thead th {\n        text-align: right;\n    }\n</style>\n<table border=\"1\" class=\"dataframe\">\n  <thead>\n    <tr style=\"text-align: right;\">\n      <th></th>\n      <th>Date</th>\n      <th>MinTemp</th>\n      <th>MaxTemp</th>\n      <th>Rainfall</th>\n      <th>Evaporation</th>\n      <th>Sunshine</th>\n      <th>WindGustDir</th>\n      <th>WindGustSpeed</th>\n      <th>WindDir9am</th>\n      <th>WindDir3pm</th>\n      <th>...</th>\n      <th>Humidity9am</th>\n      <th>Humidity3pm</th>\n      <th>Pressure9am</th>\n      <th>Pressure3pm</th>\n      <th>Cloud9am</th>\n      <th>Cloud3pm</th>\n      <th>Temp9am</th>\n      <th>Temp3pm</th>\n      <th>RainToday</th>\n      <th>RainTomorrow</th>\n    </tr>\n  </thead>\n  <tbody>\n    <tr>\n      <th>0</th>\n      <td>2/1/2008</td>\n      <td>19.5</td>\n      <td>22.4</td>\n      <td>15.6</td>\n      <td>6.2</td>\n      <td>0.0</td>\n      <td>W</td>\n      <td>41</td>\n      <td>S</td>\n      <td>SSW</td>\n      <td>...</td>\n      <td>92</td>\n      <td>84</td>\n      <td>1017.6</td>\n      <td>1017.4</td>\n      <td>8</td>\n      <td>8</td>\n      <td>20.7</td>\n      <td>20.9</td>\n      <td>Yes</td>\n      <td>Yes</td>\n    </tr>\n    <tr>\n      <th>1</th>\n      <td>2/2/2008</td>\n      <td>19.5</td>\n      <td>25.6</td>\n      <td>6.0</td>\n      <td>3.4</td>\n      <td>2.7</td>\n      <td>W</td>\n      <td>41</td>\n      <td>W</td>\n      <td>E</td>\n      <td>...</td>\n      <td>83</td>\n      <td>73</td>\n      <td>1017.9</td>\n      <td>1016.4</td>\n      <td>7</td>\n      <td>7</td>\n      <td>22.4</td>\n      <td>24.8</td>\n      <td>Yes</td>\n      <td>Yes</td>\n    </tr>\n    <tr>\n      <th>2</th>\n      <td>2/3/2008</td>\n      <td>21.6</td>\n      <td>24.5</td>\n      <td>6.6</td>\n      <td>2.4</td>\n      <td>0.1</td>\n      <td>W</td>\n      <td>41</td>\n      <td>ESE</td>\n      <td>ESE</td>\n      <td>...</td>\n      <td>88</td>\n      <td>86</td>\n      <td>1016.7</td>\n      <td>1015.6</td>\n      <td>7</td>\n      <td>8</td>\n      <td>23.5</td>\n      <td>23.0</td>\n      <td>Yes</td>\n      <td>Yes</td>\n    </tr>\n    <tr>\n      <th>3</th>\n      <td>2/4/2008</td>\n      <td>20.2</td>\n      <td>22.8</td>\n      <td>18.8</td>\n      <td>2.2</td>\n      <td>0.0</td>\n      <td>W</td>\n      <td>41</td>\n      <td>NNE</td>\n      <td>E</td>\n      <td>...</td>\n      <td>83</td>\n      <td>90</td>\n      <td>1014.2</td>\n      <td>1011.8</td>\n      <td>8</td>\n      <td>8</td>\n      <td>21.4</td>\n      <td>20.9</td>\n      <td>Yes</td>\n      <td>Yes</td>\n    </tr>\n    <tr>\n      <th>4</th>\n      <td>2/5/2008</td>\n      <td>19.7</td>\n      <td>25.7</td>\n      <td>77.4</td>\n      <td>4.8</td>\n      <td>0.0</td>\n      <td>W</td>\n      <td>41</td>\n      <td>NNE</td>\n      <td>W</td>\n      <td>...</td>\n      <td>88</td>\n      <td>74</td>\n      <td>1008.3</td>\n      <td>1004.8</td>\n      <td>8</td>\n      <td>8</td>\n      <td>22.5</td>\n      <td>25.5</td>\n      <td>Yes</td>\n      <td>Yes</td>\n    </tr>\n  </tbody>\n</table>\n<p>5 rows × 22 columns</p>\n</div>"
          },
          "metadata": {}
        }
      ],
      "execution_count": 9
    },
    {
      "cell_type": "markdown",
      "source": "### Data Preprocessing\n",
      "metadata": {}
    },
    {
      "cell_type": "markdown",
      "source": "#### One Hot Encoding\n",
      "metadata": {}
    },
    {
      "cell_type": "markdown",
      "source": "First, we need to perform one hot encoding to convert categorical variables to binary variables.\n",
      "metadata": {}
    },
    {
      "cell_type": "code",
      "source": "df_sydney_processed = pd.get_dummies(data=df, columns=['RainToday', 'WindGustDir', 'WindDir9am', 'WindDir3pm'])",
      "metadata": {
        "trusted": true
      },
      "outputs": [],
      "execution_count": 10
    },
    {
      "cell_type": "markdown",
      "source": "Next, we replace the values of the 'RainTomorrow' column changing them from a categorical column to a binary column. We do not use the `get_dummies` method because we would end up with two columns for 'RainTomorrow' and we do not want, since 'RainTomorrow' is our target.\n",
      "metadata": {}
    },
    {
      "cell_type": "code",
      "source": "df_sydney_processed.replace(['No', 'Yes'], [0,1], inplace=True)",
      "metadata": {
        "trusted": true
      },
      "outputs": [],
      "execution_count": 11
    },
    {
      "cell_type": "markdown",
      "source": "### Training Data and Test Data\n",
      "metadata": {}
    },
    {
      "cell_type": "markdown",
      "source": "Now, we set our 'features' or x values and our Y or target variable.\n",
      "metadata": {}
    },
    {
      "cell_type": "code",
      "source": "df_sydney_processed.drop('Date',axis=1,inplace=True)",
      "metadata": {
        "trusted": true
      },
      "outputs": [],
      "execution_count": 12
    },
    {
      "cell_type": "code",
      "source": "df_sydney_processed = df_sydney_processed.astype(float)",
      "metadata": {
        "trusted": true
      },
      "outputs": [],
      "execution_count": 13
    },
    {
      "cell_type": "code",
      "source": "features = df_sydney_processed.drop(columns='RainTomorrow', axis=1)\nY = df_sydney_processed['RainTomorrow']",
      "metadata": {
        "trusted": true
      },
      "outputs": [],
      "execution_count": 14
    },
    {
      "cell_type": "markdown",
      "source": "### Linear Regression\n",
      "metadata": {}
    },
    {
      "cell_type": "markdown",
      "source": "#### Q1) Use the `train_test_split` function to split the `features` and `Y` dataframes with a `test_size` of `0.2` and the `random_state` set to `10`.\n",
      "metadata": {}
    },
    {
      "cell_type": "code",
      "source": "#Enter Your Code and Execute\nX_train, X_test, Y_train, Y_test = train_test_split(features, Y, test_size=0.2, random_state=10)\nprint(\"Training set shape:\", X_train.shape, Y_train.shape)\nprint(\"Test set shape:\", X_test.shape, Y_test.shape)\n",
      "metadata": {
        "trusted": true
      },
      "outputs": [
        {
          "name": "stdout",
          "text": "Training set shape: (2616, 66) (2616,)\nTest set shape: (655, 66) (655,)\n",
          "output_type": "stream"
        }
      ],
      "execution_count": 16
    },
    {
      "cell_type": "code",
      "source": "x_train, x_test, y_train, y_test = ",
      "metadata": {},
      "outputs": [],
      "execution_count": null
    },
    {
      "cell_type": "markdown",
      "source": "#### Q2) Create and train a Linear Regression model called LinearReg using the training data (`x_train`, `y_train`).\n",
      "metadata": {}
    },
    {
      "cell_type": "code",
      "source": "#Enter Your Code and Execute\nLinearReg = LinearRegression()\nLinearReg.fit(X_train, Y_train)\nprint(\"Coefficients:\", LinearReg.coef_)\nprint(\"Intercept:\", LinearReg.intercept_)",
      "metadata": {
        "trusted": true
      },
      "outputs": [
        {
          "name": "stdout",
          "text": "Coefficients: [-2.36883601e-02  1.30031554e-02  7.30154915e-04  6.49290860e-03\n -3.51614515e-02  4.23841910e-03  1.82843563e-03  7.89794445e-04\n  9.55888360e-04  8.56007751e-03  7.70261345e-03 -9.24932344e-03\n -8.87528023e-03  1.00457553e-02  1.44651992e-02 -3.48325241e-03\n  1.03190076e+10  1.03190076e+10 -4.35428535e+09 -4.35428535e+09\n -4.35428535e+09 -4.35428535e+09 -4.35428535e+09 -4.35428535e+09\n -4.35428535e+09 -4.35428535e+09 -4.35428535e+09 -4.35428535e+09\n -4.35428535e+09 -4.35428535e+09 -4.35428535e+09 -4.35428535e+09\n -4.35428535e+09 -4.35428535e+09  4.72755310e+09  4.72755310e+09\n  4.72755310e+09  4.72755310e+09  4.72755310e+09  4.72755310e+09\n  4.72755310e+09  4.72755310e+09  4.72755310e+09  4.72755310e+09\n  4.72755310e+09  4.72755310e+09  4.72755310e+09  4.72755310e+09\n  4.72755310e+09  4.72755310e+09 -1.18315500e+10 -1.18315500e+10\n -1.18315500e+10 -1.18315500e+10 -1.18315500e+10 -1.18315500e+10\n -1.18315500e+10 -1.18315500e+10 -1.18315500e+10 -1.18315500e+10\n -1.18315500e+10 -1.18315500e+10 -1.18315500e+10 -1.18315500e+10\n -1.18315500e+10 -1.18315500e+10]\nIntercept: 1139274582.2150812\n",
          "output_type": "stream"
        }
      ],
      "execution_count": 17
    },
    {
      "cell_type": "code",
      "source": "LinearReg = ",
      "metadata": {},
      "outputs": [],
      "execution_count": null
    },
    {
      "cell_type": "markdown",
      "source": "#### Q3) Now use the `predict` method on the testing data (`x_test`) and save it to the array `predictions`.\n",
      "metadata": {}
    },
    {
      "cell_type": "code",
      "source": "#Enter Your Code and Execute\npredictions = LinearReg.predict(X_test)\n\nprint(\"Predictions:\", predictions)",
      "metadata": {
        "trusted": true
      },
      "outputs": [
        {
          "name": "stdout",
          "text": "Predictions: [ 3.31814766e-01 -1.65510178e-02  4.81940269e-01  3.05621147e-01\n -1.36880875e-02  8.85666847e-01  2.69322395e-01  7.16848373e-02\n  2.17350960e-01  1.68105125e-01  5.41468620e-01  4.08055305e-01\n  4.38626289e-01 -6.62298203e-02 -6.45704269e-02 -7.95869827e-02\n  4.06092644e-01  2.37607956e-02  1.00102425e-01  7.35921860e-02\n  5.46166420e-01  9.17637825e-01  5.35860062e-02  9.11092758e-02\n  2.40334511e-01  1.45540237e-02 -2.03771591e-02  2.23971367e-01\n  4.17529106e-01  3.37428093e-01  4.55243111e-01 -2.18441963e-01\n  3.28354836e-01  7.65690804e-01  6.96816444e-01  4.14574623e-01\n  5.61219215e-01  1.28733635e-01  8.16992760e-01  1.86888695e-01\n  3.70295525e-01  7.94315338e-03  3.94593239e-01  2.20131874e-01\n -1.79185867e-02  9.61122513e-02  2.99157143e-01  3.81814003e-01\n  3.11682701e-01  5.02877235e-01  7.24602699e-01  2.57005692e-02\n  5.48008919e-01  1.63443565e-01  4.60482597e-01  8.70667458e-01\n -1.54822350e-01  4.33683395e-02  1.00903511e-01  3.86953354e-02\n -1.23286247e-01  4.35606956e-01 -6.66074753e-02  1.00037575e-01\n  1.79219246e-01  1.53763771e-01  3.46727371e-02  3.33166122e-02\n  1.24743462e-01  2.27393150e-01  8.43114853e-02  7.71182060e-01\n  1.71021461e-01  1.52365685e-01 -8.66804123e-02  2.39212990e-01\n  1.37505531e-01  1.30463600e-01 -1.84345245e-03  1.86940193e-01\n  1.65806770e-01  4.92794991e-01  4.85951424e-01  8.85105133e-03\n  7.23925591e-01  2.14015007e-01 -3.33690643e-03 -2.46191025e-02\n  9.21814919e-01 -2.05984116e-02  3.40897560e-01  4.45206642e-01\n  4.68220711e-01  2.41223335e-01  5.91528893e-01  3.83273125e-01\n  5.09407997e-01  3.70764732e-01  1.28893852e-01  4.45517540e-01\n  2.15086937e-01  9.02703285e-01 -8.40063095e-02  8.76709938e-01\n  5.20545006e-01  3.25383186e-01  1.65402412e-01  9.97638702e-03\n  3.15884590e-01  2.90715218e-01  1.61637306e-01  6.86168671e-03\n  6.90411568e-01  6.65560722e-01  7.72924423e-02  3.52791786e-01\n  6.83182716e-01  3.34322929e-01 -9.15231705e-02  3.68258476e-01\n  6.70878410e-01 -5.90696335e-02  2.81590462e-01  4.03927803e-01\n  3.00693512e-03  2.96547890e-01  2.39457130e-01  2.73438454e-01\n  5.50406456e-01 -2.34861374e-02  5.53255081e-02  4.15343285e-01\n -7.22341537e-02  1.51045799e-01  6.77210808e-01  4.96125221e-01\n  1.73068047e-01 -6.76736832e-02 -1.77706718e-01  5.85438728e-01\n  1.80506706e-01  7.41715431e-01  3.11856270e-01 -9.50527191e-03\n -3.34978104e-02  8.39287758e-01  2.42394447e-01  7.66798973e-01\n  8.51481438e-01  3.21245193e-02  1.06156349e-01  3.38532448e-01\n  1.13769245e+00 -5.68704605e-02  4.03308868e-03  7.59911537e-01\n  2.62131691e-01  2.23689079e-01  5.85268974e-01  4.26375389e-01\n  6.75700188e-01  1.99545860e-01  7.15228081e-01  5.34020424e-01\n -2.93588638e-02 -5.29508591e-02  1.23785973e-01 -4.87146378e-02\n  4.25957680e-01  1.44883156e-01  3.26430321e-01  3.51334572e-01\n  1.26154900e-01  8.10851097e-01  3.39066505e-01 -1.78790092e-01\n  1.39124870e-01  2.03043938e-01  2.21726418e-01  1.04519367e+00\n  6.25874519e-01  1.68622017e-01  1.09139442e-01  5.38783073e-01\n  7.79522896e-01  7.48785973e-01  1.14188194e-01  2.35892296e-01\n  3.30636024e-01  5.78260422e-02  3.40795517e-02  9.58452225e-02\n  9.41817284e-01 -5.19657135e-03  2.31370926e-02  6.70048714e-01\n  8.06207657e-02  6.13545418e-01  1.69112206e-01  3.95548820e-01\n -9.56296921e-02  1.21832848e-01  2.36741066e-01  3.37839127e-02\n -8.29687119e-02  6.65974617e-01  6.51070595e-01  1.47488594e-01\n  7.13281631e-02  7.93177605e-01 -6.16292953e-02  2.40182877e-02\n  2.02639580e-01  5.41640282e-01  4.25263405e-01 -4.75320816e-02\n -8.38346481e-02  8.15476418e-01  2.63451576e-01  4.34465408e-02\n  6.49518967e-02  5.64415932e-01 -7.24592209e-02  1.00633526e+00\n  9.40680504e-01  2.71797180e-04  2.40902901e-01 -2.29864120e-02\n  1.37578011e-01  2.18504906e-01  5.06831169e-01  8.50863457e-01\n  3.64027977e-01  2.59127617e-01  2.56741524e-01  3.42453957e-01\n  1.53435707e-01  1.57052040e-01 -5.28020859e-02  6.62138939e-01\n  3.11858177e-01  2.18420029e-02  5.57476997e-01 -8.20493698e-02\n  9.33923721e-02  5.00653267e-01  8.17204475e-01  4.03063774e-01\n  4.87969398e-01  1.04100227e-01  1.16875648e-01  4.09102440e-01\n  1.30238533e-01  3.09858322e-02  5.60490608e-01 -6.96668625e-02\n  2.91128159e-02 -7.19366074e-02  1.11029625e-01  6.77035332e-01\n  5.97138405e-01  8.51576805e-01  1.63888931e-02  3.15468788e-01\n -6.52475357e-02 -1.08422279e-01  3.19191933e-01  3.18680763e-01\n -4.42266464e-02  2.73648262e-01  2.03934669e-01  1.73884392e-01\n  1.56717300e-02  7.01379776e-02  2.45682716e-01  1.43029213e-01\n  9.72223282e-02 -4.41732407e-02  6.98912621e-01  2.21605301e-02\n  4.47247505e-01  4.18515205e-01  5.91786385e-01  9.39110756e-01\n  7.43197441e-01  8.15610886e-02 -2.26355553e-01  3.83667946e-01\n  2.43226051e-01  6.44280434e-01  6.87754631e-01  6.74428940e-02\n -7.07521439e-02  5.35212517e-01  2.91833878e-02  6.63098335e-01\n  3.88197899e-01  2.46926308e-01 -2.42270470e-01 -1.26523972e-02\n  7.59037971e-01 -3.37686539e-02 -3.08279991e-01  2.37156868e-01\n -2.65368462e-01  5.48949242e-01  8.03683281e-01  3.31866264e-01\n  1.77830696e-01  2.92132378e-01  7.45457649e-01  2.42985725e-01\n  4.07153130e-01  1.09930992e-01  4.83046532e-01  8.30008507e-01\n  2.15691566e-01 -1.65104866e-01  3.34681511e-01  4.65567589e-01\n  2.39459038e-01  4.36451912e-01  5.52339554e-02  1.92366600e-01\n -1.18350029e-01  6.98210716e-01  1.08483315e-01  4.93860245e-02\n  7.14970589e-01  5.08873940e-01  4.28408623e-01  1.87825203e-01\n  6.70350075e-01  2.35405922e-01  6.37502670e-02  3.13711166e-02\n  1.39714241e-01  3.33224297e-01  8.77857208e-03  2.67076492e-02\n  7.19603539e-01  8.96397591e-01  2.33334541e-01 -5.83524704e-02\n  5.87241173e-01  5.80115318e-01  7.69503593e-01  3.26433182e-02\n  6.27945900e-01  8.65049362e-02  5.64289093e-03  8.26846123e-01\n  1.03491783e-01  1.09028816e-01  2.02507973e-01  1.55213356e-01\n  4.82937813e-01  8.99648666e-02 -3.82184982e-02 -1.40008926e-02\n  8.18262100e-02  1.91218376e-01  3.29041481e-01  1.29612923e-01\n  1.18231773e-01  8.81514549e-01  9.34820175e-02 -1.79350853e-01\n -1.99687004e-01  7.60746002e-03  1.30646706e-01  3.35383415e-01\n  4.64081764e-01  1.65490150e-01  6.83431625e-02  1.11342525e+00\n  9.31673050e-02  3.71300697e-01  3.49877357e-01  2.18632698e-01\n  2.44078636e-01  3.90062332e-02  9.09795761e-02  7.91845322e-02\n  5.30147552e-03  4.80772972e-01  9.39645767e-02 -9.52720642e-04\n  1.00121593e+00  6.83810234e-01  2.98792839e-01  1.10655785e-01\n  1.98935509e-01 -5.61227798e-02  2.62566566e-01  3.20328712e-01\n  7.56291389e-01  9.11626816e-02  1.23648643e-01  1.47170067e-01\n  3.15351486e-02  1.49748802e-01  1.23755455e-01  2.06402779e-01\n -3.18326950e-02 -6.25238419e-02  3.29249382e-01  2.01883316e-02\n  3.46651077e-02  1.06335640e-01  2.33630180e-01  1.42107010e-02\n  2.76088715e-03  8.94823074e-02  4.31313515e-01 -5.29260635e-02\n -2.22369194e-01  9.99383926e-02  1.84435844e-01  1.35335922e-02\n  8.18891525e-02 -6.27231598e-03  1.41926765e-01  2.21879005e-01\n -7.18374252e-02  2.45253563e-01 -1.42577171e-01 -4.47397232e-02\n  4.35557365e-01  2.84312248e-01  1.88553810e-01  1.83165550e-01\n  6.02713585e-01  5.28410912e-01 -1.02034569e-01  9.21125412e-02\n  4.25996780e-02 -8.47063065e-02  3.95300865e-01  2.07436562e-01\n  6.83257103e-01  8.53463173e-01  7.15828896e-01  1.59834862e-01\n  2.35777855e-01  8.29982758e-03  1.09759235e+00  3.95631790e-02\n  6.13013268e-01  2.30237007e-01  2.98022270e-01 -6.25658035e-02\n -9.30356979e-02  8.86397362e-01  2.85948753e-01  2.17902184e-01\n -9.20019150e-02  4.44087029e-01  3.70541573e-01 -5.80339432e-02\n  6.20755196e-01 -1.28901482e-01  2.75565147e-01  7.01075554e-01\n  6.61055565e-01  2.61294365e-01 -1.58440590e-01  5.99785805e-01\n  3.73652458e-01 -3.25708389e-02  5.93471527e-03 -6.15110397e-02\n  4.45195198e-01  8.55542183e-01  4.27781105e-01  1.11214638e-01\n  6.29075050e-01  2.25932121e-01 -1.88664436e-01  5.14426231e-01\n  3.96233559e-01 -2.82449722e-02 -2.97689438e-02  4.18908119e-01\n  1.28546715e-01  1.27366066e-01  6.56758308e-01  3.23618889e-01\n -2.85625458e-03  6.85999870e-01  9.69307899e-01  1.05645180e-01\n  9.79313850e-01  2.60041237e-01  1.92421913e-01  2.60057449e-02\n  1.94123268e-01 -6.72140121e-02  6.63113594e-01  2.78645515e-01\n  2.99008369e-01  7.38926888e-01 -5.83581924e-02  9.76648331e-02\n  4.61056709e-01  1.78723335e-01 -1.83897018e-02 -3.55052948e-03\n  6.57492638e-01 -1.91164017e-02  2.35013962e-02  2.34450340e-01\n  8.87937546e-02 -1.16990089e-01  4.90693092e-01  8.25837135e-01\n -1.15683556e-01  1.71740532e-01  5.67515373e-01  2.99092293e-01\n  1.13938332e-01  2.23656654e-01  3.41843605e-01 -1.62000656e-02\n  3.66475105e-01  4.43692207e-01  1.45985603e-01 -2.19621658e-02\n  1.06932640e-01  4.11057472e-01  5.71727753e-03  1.36384964e-02\n  1.53243065e-01  4.87557411e-01  6.79741859e-01  1.86280251e-01\n  1.07517910e+00 -1.93204880e-02  4.24990654e-01  5.37547112e-01\n  6.46638870e-02 -2.32785225e-01 -8.63885880e-02 -4.74958420e-02\n  1.13400459e-01  5.50650597e-01  1.78917885e-01  4.76696968e-01\n  3.21805000e-01  1.02450371e-01  2.69562721e-01  4.33844566e-01\n  7.31725693e-02  3.28263283e-01  4.52994347e-01  1.92036629e-01\n  8.50572586e-02 -6.99138641e-03  2.85553932e-01  2.39466667e-01\n  2.73680687e-01  4.30611610e-01  6.87375069e-01  6.35382652e-01\n  1.41777992e-01  2.55880356e-02  1.92542076e-01  1.14310265e-01\n  3.18892479e-01  2.49878883e-01  5.48200607e-02  7.94358253e-01\n  6.33994102e-01  9.54179764e-02  9.25168991e-02  7.43093491e-02\n  1.60845757e-01  7.60297775e-02  5.08284569e-01  3.80868912e-02\n  1.79026604e-01 -1.40769005e-01  8.96158218e-02  1.36321354e+00\n  1.61458015e-01  5.33488274e-01 -6.73131943e-02  2.87926674e-01\n  6.07500076e-02  4.24852371e-02  7.08058357e-01 -1.01309776e-01\n  9.54065323e-02  3.68454933e-01 -1.00649834e-01  2.21276283e-01\n -5.22947311e-02  5.21183014e-03  6.57275200e-01  5.41522026e-01\n -1.20973587e-02  2.72550583e-02  6.23591423e-01 -3.62653732e-02\n  4.02307510e-02 -1.16019249e-01  1.64757729e-01  4.61871147e-01\n  3.05485725e-01  2.60586739e-01 -7.64226913e-02 -2.27537155e-02\n  1.31311417e-02  1.35350227e-01  2.42650032e-01  9.79852676e-02\n  7.54857063e-01  2.93461800e-01  9.42049026e-02 -3.41959000e-02\n  3.51877213e-02  5.94138145e-01  1.59354210e-01  4.48483467e-01\n  1.12447739e-02  3.71176720e-01  6.05368614e-01  2.72671700e-01\n  1.38260841e-01  2.45478630e-01  1.05795860e-01  6.10154152e-01\n  1.74067497e-01  3.71436119e-01  6.05227470e-01  5.74673653e-01\n -1.28998756e-01 -4.44097519e-02 -1.77412033e-02  6.21504784e-01\n  3.89834404e-01  1.09937572e+00 -6.15644455e-02 -3.06081772e-02\n  6.42853737e-01 -2.39372253e-04  1.24177933e-02  2.56087303e-01\n  8.45065117e-01 -3.28283310e-02  5.94611168e-01  3.83820534e-01\n -1.07810020e-01  4.30623055e-01  6.42024040e-01]\n",
          "output_type": "stream"
        }
      ],
      "execution_count": 58
    },
    {
      "cell_type": "code",
      "source": "predictions = ",
      "metadata": {},
      "outputs": [],
      "execution_count": null
    },
    {
      "cell_type": "markdown",
      "source": "#### Q4) Using the `predictions` and the `y_test` dataframe calculate the value for each metric using the appropriate function.\n",
      "metadata": {}
    },
    {
      "cell_type": "code",
      "source": "#Enter Your Code and Execute\nfrom sklearn.metrics import mean_absolute_error, mean_squared_error, r2_score\nLinearRegression_MAE = mean_absolute_error(Y_test, predictions)\nLinearRegression_MSE = mean_squared_error(Y_test, predictions)\nLinearRegression_R2 = r2_score(Y_test, predictions)\nprint(\"Mean Absolute Error:\", LinearRegression_MAE)\nprint(\"Mean Squared Error:\", LinearRegression_MSE)\nprint(\"R-squared:\", LinearRegression_R2)\n",
      "metadata": {
        "trusted": true
      },
      "outputs": [
        {
          "name": "stdout",
          "text": "Mean Absolute Error: 0.256318933909176\nMean Squared Error: 0.1157209828234031\nR-squared: 0.4271301272061002\n",
          "output_type": "stream"
        }
      ],
      "execution_count": 21
    },
    {
      "cell_type": "code",
      "source": "LinearRegression_MAE = \nLinearRegression_MSE = \nLinearRegression_R2 = ",
      "metadata": {},
      "outputs": [],
      "execution_count": null
    },
    {
      "cell_type": "markdown",
      "source": "#### Q5) Show the MAE, MSE, and R2 in a tabular format using data frame for the linear model.\n",
      "metadata": {}
    },
    {
      "cell_type": "code",
      "source": "#Enter Your Code and Execute\nmetrics_df = pd.DataFrame({\n    'Metric': ['Mean Absolute Error', 'Mean Squared Error', 'R-squared'],\n    'Value': [LinearRegression_MAE, LinearRegression_MSE, LinearRegression_R2]\n})\nprint(metrics_df)",
      "metadata": {
        "trusted": true
      },
      "outputs": [
        {
          "name": "stdout",
          "text": "                Metric     Value\n0  Mean Absolute Error  0.256319\n1   Mean Squared Error  0.115721\n2            R-squared  0.427130\n",
          "output_type": "stream"
        }
      ],
      "execution_count": 22
    },
    {
      "cell_type": "code",
      "source": "Report = ",
      "metadata": {},
      "outputs": [],
      "execution_count": null
    },
    {
      "cell_type": "markdown",
      "source": "### KNN\n",
      "metadata": {}
    },
    {
      "cell_type": "markdown",
      "source": "#### Q6) Create and train a KNN model called KNN using the training data (`x_train`, `y_train`) with the `n_neighbors` parameter set to `4`.\n",
      "metadata": {}
    },
    {
      "cell_type": "code",
      "source": "#Enter Your Code and Execute\nKNN = KNeighborsClassifier(n_neighbors=4)\nKNN.fit(X_train, Y_train)\nknn_predictions = KNN.predict(X_test)\nKNN_MAE = mean_absolute_error(Y_test, knn_predictions)\nKNN_MSE = mean_squared_error(Y_test, knn_predictions)\nKNN_R2 = r2_score(Y_test, knn_predictions)\nprint(\"KNN Mean Absolute Error:\", KNN_MAE)\nprint(\"KNN Mean Squared Error:\", KNN_MSE)\nprint(\"KNN R-squared:\", KNN_R2)",
      "metadata": {
        "trusted": true
      },
      "outputs": [
        {
          "name": "stdout",
          "text": "KNN Mean Absolute Error: 0.18167938931297709\nKNN Mean Squared Error: 0.18167938931297709\nKNN R-squared: 0.10060694175205365\n",
          "output_type": "stream"
        }
      ],
      "execution_count": 23
    },
    {
      "cell_type": "code",
      "source": "KNN = ",
      "metadata": {},
      "outputs": [],
      "execution_count": null
    },
    {
      "cell_type": "markdown",
      "source": "#### Q7) Now use the `predict` method on the testing data (`x_test`) and save it to the array `predictions`.\n",
      "metadata": {}
    },
    {
      "cell_type": "code",
      "source": "#Enter Your Code and Execute\nKNN = KNeighborsClassifier(n_neighbors=4)\nKNN.fit(X_train, Y_train)\npredictions = KNN.predict(X_test)\nprint(\"KNN Predictions:\", predictions)",
      "metadata": {
        "trusted": true
      },
      "outputs": [
        {
          "name": "stdout",
          "text": "KNN Predictions: [0. 0. 1. 0. 0. 1. 0. 0. 0. 0. 1. 0. 0. 0. 0. 0. 0. 0. 0. 0. 0. 1. 0. 0.\n 1. 0. 0. 0. 0. 0. 0. 0. 0. 0. 0. 0. 0. 0. 0. 0. 0. 0. 1. 0. 0. 0. 1. 0.\n 0. 0. 1. 0. 0. 0. 1. 1. 0. 0. 0. 0. 0. 0. 0. 0. 0. 0. 0. 0. 0. 0. 0. 1.\n 0. 1. 0. 0. 0. 0. 0. 0. 0. 0. 0. 0. 1. 0. 0. 0. 1. 0. 0. 0. 0. 0. 0. 1.\n 0. 0. 0. 1. 0. 1. 0. 1. 0. 0. 0. 0. 0. 0. 0. 0. 0. 1. 0. 0. 1. 0. 0. 0.\n 0. 0. 0. 0. 0. 0. 0. 0. 0. 0. 0. 0. 0. 0. 1. 1. 0. 0. 0. 1. 0. 1. 0. 0.\n 0. 1. 0. 1. 1. 0. 0. 0. 1. 0. 0. 1. 0. 0. 0. 0. 0. 0. 0. 1. 0. 0. 0. 0.\n 0. 0. 0. 0. 0. 1. 1. 0. 0. 0. 0. 1. 0. 0. 0. 0. 1. 1. 0. 0. 1. 0. 0. 0.\n 1. 0. 0. 1. 0. 1. 0. 0. 0. 0. 0. 0. 0. 1. 0. 0. 0. 1. 0. 0. 0. 0. 0. 0.\n 0. 1. 0. 0. 0. 0. 0. 1. 1. 0. 0. 0. 0. 0. 1. 0. 0. 0. 0. 0. 0. 0. 0. 0.\n 0. 0. 0. 0. 0. 0. 1. 0. 0. 0. 0. 1. 0. 0. 1. 0. 0. 0. 0. 0. 0. 1. 0. 0.\n 0. 0. 0. 0. 0. 0. 0. 0. 0. 0. 0. 0. 0. 0. 0. 0. 0. 0. 0. 1. 1. 0. 0. 0.\n 0. 0. 1. 0. 0. 0. 0. 1. 0. 0. 0. 0. 0. 0. 0. 0. 0. 0. 1. 0. 0. 0. 1. 1.\n 1. 0. 0. 1. 0. 0. 0. 0. 0. 1. 0. 0. 0. 0. 0. 0. 0. 0. 1. 0. 1. 0. 0. 0.\n 0. 0. 0. 0. 1. 1. 0. 0. 0. 0. 1. 0. 0. 0. 0. 1. 0. 0. 0. 0. 0. 0. 0. 0.\n 0. 0. 0. 0. 0. 1. 0. 0. 0. 0. 0. 0. 0. 0. 0. 1. 0. 1. 0. 0. 0. 0. 0. 0.\n 0. 0. 0. 0. 1. 0. 0. 0. 0. 0. 0. 0. 0. 0. 0. 0. 0. 0. 0. 0. 0. 0. 0. 0.\n 0. 0. 0. 0. 0. 0. 1. 0. 0. 0. 0. 0. 0. 0. 0. 0. 0. 0. 0. 0. 0. 0. 0. 0.\n 1. 0. 0. 0. 0. 0. 0. 0. 1. 1. 0. 0. 0. 0. 1. 0. 0. 0. 0. 0. 0. 1. 0. 0.\n 0. 0. 0. 0. 0. 0. 0. 0. 1. 0. 0. 0. 0. 0. 0. 0. 1. 1. 0. 0. 1. 0. 0. 1.\n 0. 0. 0. 0. 0. 0. 1. 0. 0. 1. 1. 0. 1. 0. 0. 0. 0. 0. 0. 0. 0. 1. 0. 0.\n 0. 0. 0. 0. 0. 0. 0. 0. 0. 0. 1. 1. 0. 0. 0. 0. 0. 0. 0. 0. 0. 0. 0. 0.\n 0. 0. 0. 0. 0. 1. 0. 0. 1. 0. 0. 0. 0. 0. 0. 0. 0. 0. 0. 0. 0. 0. 0. 0.\n 0. 0. 0. 0. 0. 0. 0. 0. 0. 0. 1. 0. 0. 0. 0. 0. 0. 0. 0. 1. 1. 0. 0. 0.\n 0. 0. 0. 0. 0. 0. 0. 1. 0. 0. 0. 0. 0. 0. 1. 0. 0. 1. 0. 0. 0. 0. 0. 0.\n 0. 0. 0. 0. 0. 0. 0. 1. 0. 0. 0. 0. 0. 0. 0. 0. 1. 0. 0. 0. 0. 0. 0. 0.\n 0. 0. 0. 0. 0. 0. 0. 0. 0. 0. 1. 0. 0. 0. 0. 0. 0. 1. 0. 0. 0. 0. 0. 0.\n 1. 0. 1. 0. 0. 0. 1.]\n",
          "output_type": "stream"
        }
      ],
      "execution_count": 45
    },
    {
      "cell_type": "code",
      "source": "predictions = ",
      "metadata": {},
      "outputs": [],
      "execution_count": null
    },
    {
      "cell_type": "markdown",
      "source": "#### Q8) Using the `predictions` and the `y_test` dataframe calculate the value for each metric using the appropriate function.\n",
      "metadata": {}
    },
    {
      "cell_type": "code",
      "source": "#Enter Your Code and Execute\nfrom sklearn.metrics import accuracy_score, jaccard_score, f1_score\nKNN_Accuracy_Score = accuracy_score(Y_test, predictions)\nKNN_JaccardIndex = jaccard_score(Y_test, predictions)\nKNN_F1_Score = f1_score(Y_test, predictions)\nmetrics_classification_df = pd.DataFrame({\n    'Metric': ['Accuracy Score', 'Jaccard Index', 'F1 Score'],\n    'Value': [KNN_Accuracy_Score, KNN_JaccardIndex, KNN_F1_Score]\n})\nprint(metrics_classification_df)\n",
      "metadata": {
        "trusted": true
      },
      "outputs": [
        {
          "name": "stdout",
          "text": "           Metric     Value\n0  Accuracy Score  0.813740\n1   Jaccard Index  0.399015\n2        F1 Score  0.570423\n",
          "output_type": "stream"
        }
      ],
      "execution_count": 46
    },
    {
      "cell_type": "code",
      "source": "KNN_Accuracy_Score = \nKNN_JaccardIndex = \nKNN_F1_Score = ",
      "metadata": {},
      "outputs": [],
      "execution_count": null
    },
    {
      "cell_type": "markdown",
      "source": "### Decision Tree\n",
      "metadata": {}
    },
    {
      "cell_type": "markdown",
      "source": "#### Q9) Create and train a Decision Tree model called Tree using the training data (`x_train`, `y_train`).\n",
      "metadata": {}
    },
    {
      "cell_type": "code",
      "source": "#Enter Your Code and Execute\nTree = DecisionTreeClassifier(random_state=10)\nTree.fit(X_train, Y_train)\npredictions = Tree.predict(X_test)\nprint(\"Decision Tree Predictions:\", predictions)",
      "metadata": {
        "trusted": true
      },
      "outputs": [
        {
          "name": "stdout",
          "text": "Decision Tree Predictions: [0. 0. 1. 0. 0. 0. 1. 1. 1. 1. 0. 0. 0. 0. 0. 0. 0. 0. 0. 0. 0. 1. 0. 0.\n 0. 1. 0. 0. 1. 0. 0. 0. 0. 0. 0. 1. 0. 0. 0. 0. 0. 0. 0. 0. 0. 1. 0. 0.\n 1. 0. 0. 0. 0. 0. 0. 0. 0. 0. 1. 0. 0. 0. 1. 1. 0. 0. 1. 0. 0. 0. 0. 0.\n 0. 0. 0. 0. 1. 0. 0. 1. 0. 0. 0. 0. 1. 0. 1. 1. 1. 0. 0. 0. 0. 0. 0. 1.\n 0. 1. 0. 0. 0. 0. 1. 0. 1. 1. 0. 1. 0. 1. 0. 0. 0. 0. 0. 1. 0. 1. 0. 0.\n 0. 0. 0. 0. 0. 0. 1. 1. 0. 1. 1. 0. 1. 0. 0. 0. 0. 0. 0. 1. 1. 0. 0. 0.\n 1. 0. 0. 0. 0. 0. 0. 1. 0. 0. 0. 0. 0. 1. 0. 1. 1. 0. 0. 0. 0. 0. 0. 0.\n 0. 0. 1. 0. 0. 0. 0. 1. 0. 0. 0. 0. 1. 0. 0. 1. 0. 0. 0. 0. 1. 0. 0. 0.\n 0. 0. 0. 0. 0. 0. 0. 0. 1. 0. 0. 0. 1. 0. 0. 0. 1. 1. 0. 0. 1. 0. 0. 0.\n 0. 0. 1. 0. 1. 0. 0. 0. 0. 1. 1. 0. 0. 1. 0. 0. 1. 1. 1. 0. 0. 1. 1. 0.\n 1. 1. 0. 0. 0. 0. 1. 0. 0. 1. 0. 0. 0. 1. 0. 1. 1. 0. 1. 1. 1. 0. 0. 0.\n 0. 0. 0. 0. 1. 0. 0. 0. 0. 1. 1. 1. 1. 0. 0. 0. 0. 0. 1. 0. 1. 0. 0. 0.\n 0. 0. 0. 0. 0. 0. 0. 0. 0. 1. 0. 0. 1. 0. 0. 0. 0. 0. 1. 0. 1. 0. 1. 1.\n 0. 0. 1. 0. 1. 0. 0. 1. 0. 0. 1. 0. 0. 0. 0. 0. 0. 1. 1. 0. 0. 0. 0. 0.\n 0. 1. 0. 0. 0. 0. 0. 0. 0. 0. 0. 0. 0. 0. 0. 0. 1. 0. 0. 0. 0. 1. 1. 0.\n 0. 0. 1. 1. 1. 1. 0. 0. 0. 1. 0. 0. 1. 1. 0. 1. 0. 0. 0. 0. 0. 1. 0. 1.\n 1. 0. 0. 0. 0. 0. 0. 0. 1. 0. 0. 0. 1. 0. 1. 1. 0. 1. 0. 1. 0. 0. 0. 0.\n 0. 0. 1. 0. 0. 1. 0. 0. 0. 0. 1. 0. 0. 0. 0. 0. 0. 1. 1. 0. 1. 0. 0. 0.\n 0. 0. 1. 1. 0. 0. 1. 0. 1. 0. 0. 1. 1. 1. 0. 0. 1. 1. 0. 0. 0. 0. 0. 1.\n 1. 0. 1. 0. 0. 0. 0. 0. 0. 0. 0. 0. 0. 1. 0. 0. 0. 1. 1. 0. 1. 0. 1. 0.\n 1. 0. 1. 0. 0. 0. 0. 0. 0. 0. 0. 0. 0. 0. 1. 0. 0. 0. 1. 0. 0. 1. 1. 1.\n 0. 0. 1. 0. 1. 0. 0. 0. 0. 1. 1. 0. 0. 0. 0. 0. 0. 0. 1. 0. 0. 1. 0. 0.\n 0. 0. 0. 1. 1. 1. 0. 0. 1. 0. 1. 1. 0. 0. 0. 1. 0. 1. 1. 1. 0. 0. 0. 0.\n 1. 0. 1. 1. 1. 0. 0. 0. 0. 1. 0. 1. 1. 0. 0. 0. 0. 1. 0. 0. 0. 0. 1. 0.\n 0. 0. 0. 0. 0. 1. 0. 0. 0. 0. 1. 0. 0. 1. 0. 0. 0. 0. 0. 0. 0. 1. 1. 0.\n 0. 0. 1. 0. 0. 0. 1. 0. 1. 0. 1. 0. 1. 0. 1. 0. 1. 0. 0. 1. 1. 0. 1. 0.\n 0. 0. 1. 0. 0. 0. 1. 0. 1. 0. 0. 0. 1. 1. 0. 1. 0. 0. 0. 0. 0. 0. 1. 1.\n 0. 0. 0. 0. 1. 0. 0.]\n",
          "output_type": "stream"
        }
      ],
      "execution_count": 26
    },
    {
      "cell_type": "code",
      "source": "Tree = ",
      "metadata": {},
      "outputs": [],
      "execution_count": null
    },
    {
      "cell_type": "markdown",
      "source": "#### Q10) Now use the `predict` method on the testing data (`x_test`) and save it to the array `predictions`.\n",
      "metadata": {}
    },
    {
      "cell_type": "code",
      "source": "#Enter Your Code and Execute\nTree = DecisionTreeClassifier(random_state=10)\nTree.fit(X_train, Y_train)\npredictions = Tree.predict(X_test)\nprint(\"Decision Tree Predictions:\", predictions)",
      "metadata": {
        "trusted": true
      },
      "outputs": [
        {
          "name": "stdout",
          "text": "Decision Tree Predictions: [0. 0. 1. 0. 0. 0. 1. 1. 1. 1. 0. 0. 0. 0. 0. 0. 0. 0. 0. 0. 0. 1. 0. 0.\n 0. 1. 0. 0. 1. 0. 0. 0. 0. 0. 0. 1. 0. 0. 0. 0. 0. 0. 0. 0. 0. 1. 0. 0.\n 1. 0. 0. 0. 0. 0. 0. 0. 0. 0. 1. 0. 0. 0. 1. 1. 0. 0. 1. 0. 0. 0. 0. 0.\n 0. 0. 0. 0. 1. 0. 0. 1. 0. 0. 0. 0. 1. 0. 1. 1. 1. 0. 0. 0. 0. 0. 0. 1.\n 0. 1. 0. 0. 0. 0. 1. 0. 1. 1. 0. 1. 0. 1. 0. 0. 0. 0. 0. 1. 0. 1. 0. 0.\n 0. 0. 0. 0. 0. 0. 1. 1. 0. 1. 1. 0. 1. 0. 0. 0. 0. 0. 0. 1. 1. 0. 0. 0.\n 1. 0. 0. 0. 0. 0. 0. 1. 0. 0. 0. 0. 0. 1. 0. 1. 1. 0. 0. 0. 0. 0. 0. 0.\n 0. 0. 1. 0. 0. 0. 0. 1. 0. 0. 0. 0. 1. 0. 0. 1. 0. 0. 0. 0. 1. 0. 0. 0.\n 0. 0. 0. 0. 0. 0. 0. 0. 1. 0. 0. 0. 1. 0. 0. 0. 1. 1. 0. 0. 1. 0. 0. 0.\n 0. 0. 1. 0. 1. 0. 0. 0. 0. 1. 1. 0. 0. 1. 0. 0. 1. 1. 1. 0. 0. 1. 1. 0.\n 1. 1. 0. 0. 0. 0. 1. 0. 0. 1. 0. 0. 0. 1. 0. 1. 1. 0. 1. 1. 1. 0. 0. 0.\n 0. 0. 0. 0. 1. 0. 0. 0. 0. 1. 1. 1. 1. 0. 0. 0. 0. 0. 1. 0. 1. 0. 0. 0.\n 0. 0. 0. 0. 0. 0. 0. 0. 0. 1. 0. 0. 1. 0. 0. 0. 0. 0. 1. 0. 1. 0. 1. 1.\n 0. 0. 1. 0. 1. 0. 0. 1. 0. 0. 1. 0. 0. 0. 0. 0. 0. 1. 1. 0. 0. 0. 0. 0.\n 0. 1. 0. 0. 0. 0. 0. 0. 0. 0. 0. 0. 0. 0. 0. 0. 1. 0. 0. 0. 0. 1. 1. 0.\n 0. 0. 1. 1. 1. 1. 0. 0. 0. 1. 0. 0. 1. 1. 0. 1. 0. 0. 0. 0. 0. 1. 0. 1.\n 1. 0. 0. 0. 0. 0. 0. 0. 1. 0. 0. 0. 1. 0. 1. 1. 0. 1. 0. 1. 0. 0. 0. 0.\n 0. 0. 1. 0. 0. 1. 0. 0. 0. 0. 1. 0. 0. 0. 0. 0. 0. 1. 1. 0. 1. 0. 0. 0.\n 0. 0. 1. 1. 0. 0. 1. 0. 1. 0. 0. 1. 1. 1. 0. 0. 1. 1. 0. 0. 0. 0. 0. 1.\n 1. 0. 1. 0. 0. 0. 0. 0. 0. 0. 0. 0. 0. 1. 0. 0. 0. 1. 1. 0. 1. 0. 1. 0.\n 1. 0. 1. 0. 0. 0. 0. 0. 0. 0. 0. 0. 0. 0. 1. 0. 0. 0. 1. 0. 0. 1. 1. 1.\n 0. 0. 1. 0. 1. 0. 0. 0. 0. 1. 1. 0. 0. 0. 0. 0. 0. 0. 1. 0. 0. 1. 0. 0.\n 0. 0. 0. 1. 1. 1. 0. 0. 1. 0. 1. 1. 0. 0. 0. 1. 0. 1. 1. 1. 0. 0. 0. 0.\n 1. 0. 1. 1. 1. 0. 0. 0. 0. 1. 0. 1. 1. 0. 0. 0. 0. 1. 0. 0. 0. 0. 1. 0.\n 0. 0. 0. 0. 0. 1. 0. 0. 0. 0. 1. 0. 0. 1. 0. 0. 0. 0. 0. 0. 0. 1. 1. 0.\n 0. 0. 1. 0. 0. 0. 1. 0. 1. 0. 1. 0. 1. 0. 1. 0. 1. 0. 0. 1. 1. 0. 1. 0.\n 0. 0. 1. 0. 0. 0. 1. 0. 1. 0. 0. 0. 1. 1. 0. 1. 0. 0. 0. 0. 0. 0. 1. 1.\n 0. 0. 0. 0. 1. 0. 0.]\n",
          "output_type": "stream"
        }
      ],
      "execution_count": 27
    },
    {
      "cell_type": "code",
      "source": "predictions = ",
      "metadata": {},
      "outputs": [],
      "execution_count": null
    },
    {
      "cell_type": "markdown",
      "source": "#### Q11) Using the `predictions` and the `y_test` dataframe calculate the value for each metric using the appropriate function.\n",
      "metadata": {}
    },
    {
      "cell_type": "code",
      "source": "#Enter Your Code and Execute\nfrom sklearn.metrics import accuracy_score, jaccard_score, f1_score, mean_absolute_error, mean_squared_error, r2_score\nTree_Accuracy_Score = accuracy_score(Y_test, predictions)\nTree_JaccardIndex = jaccard_score(Y_test, predictions)\nTree_F1_Score = f1_score(Y_test, predictions)\nTree_MAE = mean_absolute_error(Y_test, predictions)\nTree_MSE = mean_squared_error(Y_test, predictions)\nTree_R2 = r2_score(Y_test, predictions)\nmetrics_classification_df = pd.DataFrame({\n    'Metric': ['Accuracy Score', 'Jaccard Index', 'F1 Score'],\n    'Value': [Tree_Accuracy_Score, Tree_JaccardIndex, Tree_F1_Score]\n})\nmetrics_regression_df = pd.DataFrame({\n    'Metric': ['Mean Absolute Error', 'Mean Squared Error', 'R-squared'],\n    'Value': [Tree_MAE, Tree_MSE, Tree_R2]\n})\nprint(metrics_classification_df)\nprint(metrics_regression_df)",
      "metadata": {
        "trusted": true
      },
      "outputs": [
        {
          "name": "stdout",
          "text": "           Metric     Value\n0  Accuracy Score  0.813740\n1   Jaccard Index  0.399015\n2        F1 Score  0.570423\n                Metric     Value\n0  Mean Absolute Error  0.186260\n1   Mean Squared Error  0.186260\n2            R-squared  0.071742\n",
          "output_type": "stream"
        }
      ],
      "execution_count": 47
    },
    {
      "cell_type": "code",
      "source": "Tree_Accuracy_Score = \nTree_JaccardIndex = \nTree_F1_Score = ",
      "metadata": {},
      "outputs": [],
      "execution_count": null
    },
    {
      "cell_type": "markdown",
      "source": "### Logistic Regression\n",
      "metadata": {}
    },
    {
      "cell_type": "markdown",
      "source": "#### Q12) Use the `train_test_split` function to split the `features` and `Y` dataframes with a `test_size` of `0.2` and the `random_state` set to `1`.\n",
      "metadata": {}
    },
    {
      "cell_type": "code",
      "source": "#Enter Your Code and Execute\nX_train, X_test, Y_train, Y_test = train_test_split(features, Y, test_size=0.2, random_state=1)\nprint(\"X_train shape:\", X_train.shape)\nprint(\"X_test shape:\", X_test.shape)\nprint(\"Y_train shape:\", Y_train.shape)\nprint(\"Y_test shape:\", Y_test.shape)",
      "metadata": {
        "trusted": true
      },
      "outputs": [
        {
          "name": "stdout",
          "text": "X_train shape: (2616, 66)\nX_test shape: (655, 66)\nY_train shape: (2616,)\nY_test shape: (655,)\n",
          "output_type": "stream"
        }
      ],
      "execution_count": 48
    },
    {
      "cell_type": "code",
      "source": "x_train, x_test, y_train, y_test = ",
      "metadata": {},
      "outputs": [],
      "execution_count": null
    },
    {
      "cell_type": "markdown",
      "source": "#### Q13) Create and train a LogisticRegression model called LR using the training data (`x_train`, `y_train`) with the `solver` parameter set to `liblinear`.\n",
      "metadata": {}
    },
    {
      "cell_type": "code",
      "source": "#Enter Your Code and Execute\nLR = LogisticRegression(solver='liblinear', random_state=1)\nLR.fit(X_train, Y_train)\nprint(\"Logistic Regression Coefficients:\", LR.coef_)",
      "metadata": {
        "trusted": true
      },
      "outputs": [
        {
          "name": "stdout",
          "text": "Logistic Regression Coefficients: [[-0.18778865  0.02264536  0.0117116   0.00880982 -0.22546679  0.03567162\n   0.01044671  0.00795829  0.02669392  0.05130884  0.0698229  -0.07765463\n  -0.12461207  0.17789266  0.17080559  0.02548204 -0.15158752  0.18037037\n   0.58064894 -1.03434926  0.39305477 -0.32181908 -0.28529076 -0.45642876\n  -0.08203254 -0.02381021 -0.06584801  0.51150354  0.15536345  0.01510076\n   0.1554734  -0.18164605  0.4641307   0.20473196  0.27307011  0.0664784\n  -0.01280595 -0.09409953 -0.12576436  0.0847466  -0.03029529  0.27239883\n  -0.29374095  0.01699025 -0.0121007  -0.13987448  0.16710282  0.00653095\n   0.0371081  -0.18696196 -0.63069049 -0.55489134 -0.01940672 -0.43521445\n  -0.35627569  0.31062589  0.17074402 -0.1744482   0.64807812  0.25487351\n   0.02836966  0.70538643  0.32376695  0.127728   -0.47587887  0.10601603]]\n",
          "output_type": "stream"
        }
      ],
      "execution_count": 49
    },
    {
      "cell_type": "code",
      "source": "LR = ",
      "metadata": {},
      "outputs": [],
      "execution_count": null
    },
    {
      "cell_type": "markdown",
      "source": "#### Q14) Now, use the `predict` and `predict_proba` methods on the testing data (`x_test`) and save it as 2 arrays `predictions` and `predict_proba`.\n",
      "metadata": {}
    },
    {
      "cell_type": "code",
      "source": "#Enter Your Code and Execute\npredictions = LR.predict(X_test)\npredict_proba = LR.predict_proba(X_test)\nprint(\"Predictions:\", predictions)\nprint(\"Predicted Probabilities:\\n\", predict_proba)",
      "metadata": {
        "trusted": true
      },
      "outputs": [
        {
          "name": "stdout",
          "text": "Predictions: [0. 0. 0. 0. 0. 1. 0. 0. 0. 0. 1. 1. 0. 0. 0. 0. 1. 0. 0. 0. 1. 1. 0. 0.\n 0. 0. 0. 0. 0. 0. 0. 0. 0. 1. 1. 1. 1. 0. 1. 0. 0. 0. 0. 0. 0. 0. 0. 0.\n 0. 0. 1. 0. 1. 0. 1. 1. 0. 0. 0. 0. 0. 0. 0. 0. 0. 0. 0. 0. 0. 0. 0. 1.\n 0. 0. 0. 0. 0. 0. 0. 0. 0. 0. 0. 0. 1. 0. 0. 0. 1. 0. 0. 1. 0. 0. 1. 0.\n 0. 0. 0. 0. 0. 1. 0. 1. 1. 0. 0. 0. 0. 0. 0. 0. 1. 1. 0. 0. 1. 0. 0. 0.\n 1. 0. 0. 0. 0. 0. 0. 0. 0. 0. 0. 0. 0. 0. 1. 0. 0. 0. 0. 1. 0. 1. 0. 0.\n 0. 1. 0. 1. 1. 0. 0. 0. 1. 0. 0. 1. 0. 0. 1. 0. 1. 0. 1. 1. 0. 0. 0. 0.\n 0. 0. 0. 0. 0. 1. 0. 0. 0. 0. 0. 1. 1. 0. 0. 0. 1. 1. 0. 0. 0. 0. 0. 0.\n 1. 0. 0. 1. 0. 1. 0. 0. 0. 0. 0. 0. 0. 1. 1. 0. 0. 1. 0. 0. 0. 1. 0. 0.\n 0. 1. 0. 0. 0. 1. 0. 1. 1. 0. 0. 0. 0. 0. 1. 1. 0. 0. 0. 0. 0. 0. 0. 1.\n 0. 0. 1. 0. 0. 0. 1. 1. 1. 0. 0. 0. 0. 0. 1. 0. 0. 0. 0. 1. 1. 1. 0. 0.\n 0. 0. 0. 0. 0. 0. 0. 0. 0. 0. 0. 0. 0. 0. 1. 0. 0. 0. 1. 1. 1. 0. 0. 0.\n 0. 1. 1. 0. 0. 0. 0. 1. 0. 0. 0. 0. 1. 0. 0. 0. 0. 1. 1. 0. 0. 0. 1. 0.\n 0. 0. 0. 1. 0. 0. 0. 0. 0. 0. 0. 0. 0. 1. 0. 0. 1. 1. 0. 0. 1. 0. 0. 0.\n 0. 0. 0. 0. 1. 1. 0. 0. 1. 1. 1. 0. 1. 0. 0. 1. 0. 0. 0. 0. 0. 0. 0. 0.\n 0. 0. 0. 0. 0. 1. 0. 0. 0. 0. 0. 0. 0. 0. 0. 1. 0. 0. 1. 0. 0. 0. 0. 0.\n 0. 0. 0. 0. 1. 1. 0. 0. 0. 0. 0. 0. 1. 0. 0. 0. 0. 0. 0. 0. 0. 0. 0. 0.\n 0. 0. 0. 0. 0. 0. 0. 0. 0. 0. 0. 0. 0. 0. 0. 0. 0. 0. 0. 0. 0. 0. 0. 0.\n 1. 1. 0. 0. 0. 0. 0. 0. 1. 1. 1. 0. 0. 0. 1. 0. 1. 0. 0. 0. 0. 1. 0. 0.\n 0. 0. 0. 0. 1. 0. 0. 1. 1. 0. 0. 1. 0. 0. 0. 0. 0. 1. 0. 0. 1. 0. 0. 0.\n 0. 0. 0. 0. 0. 0. 1. 0. 0. 1. 1. 0. 1. 0. 0. 0. 0. 0. 1. 0. 0. 1. 0. 0.\n 0. 0. 0. 0. 1. 0. 0. 0. 0. 0. 0. 1. 0. 0. 1. 0. 0. 0. 0. 0. 0. 0. 0. 0.\n 0. 0. 0. 0. 0. 0. 1. 0. 1. 0. 0. 1. 0. 0. 0. 0. 0. 1. 0. 0. 0. 0. 0. 0.\n 0. 0. 1. 0. 0. 0. 0. 0. 0. 0. 1. 1. 0. 0. 0. 0. 0. 0. 0. 1. 1. 0. 0. 0.\n 0. 0. 0. 0. 0. 0. 0. 1. 0. 1. 0. 0. 0. 0. 1. 0. 0. 0. 0. 0. 0. 0. 1. 1.\n 0. 0. 1. 0. 0. 0. 0. 0. 0. 0. 0. 0. 0. 0. 0. 0. 1. 0. 0. 0. 0. 1. 0. 1.\n 0. 0. 1. 0. 0. 0. 0. 1. 0. 0. 1. 1. 0. 0. 0. 1. 0. 1. 0. 0. 1. 0. 0. 0.\n 1. 0. 1. 0. 0. 0. 1.]\nPredicted Probabilities:\n [[0.73237141 0.26762859]\n [0.97552763 0.02447237]\n [0.53317815 0.46682185]\n ...\n [0.97935358 0.02064642]\n [0.69890177 0.30109823]\n [0.2138034  0.7861966 ]]\n",
          "output_type": "stream"
        }
      ],
      "execution_count": 50
    },
    {
      "cell_type": "code",
      "source": "predictions = ",
      "metadata": {},
      "outputs": [],
      "execution_count": null
    },
    {
      "cell_type": "code",
      "source": "predict_proba = ",
      "metadata": {},
      "outputs": [],
      "execution_count": null
    },
    {
      "cell_type": "markdown",
      "source": "#### Q15) Using the `predictions`, `predict_proba` and the `y_test` dataframe calculate the value for each metric using the appropriate function.\n",
      "metadata": {}
    },
    {
      "cell_type": "code",
      "source": "#Enter Your Code and Execute\nLR_Accuracy_Score = accuracy_score(Y_test, predictions)\nLR_JaccardIndex = jaccard_score(Y_test, predictions)\nLR_F1_Score = f1_score(Y_test, predictions)\nLR_Log_Loss = log_loss(Y_test, predict_proba)\nmetrics_classification_df = pd.DataFrame({\n    'Metric': ['Accuracy Score', 'Jaccard Index', 'F1 Score', 'Log Loss'],\n    'Value': [LR_Accuracy_Score, LR_JaccardIndex, LR_F1_Score, LR_Log_Loss]\n})\nprint(metrics_classification_df)\n                                   ",
      "metadata": {
        "trusted": true
      },
      "outputs": [
        {
          "name": "stdout",
          "text": "           Metric     Value\n0  Accuracy Score  0.838168\n1   Jaccard Index  0.511521\n2        F1 Score  0.676829\n3        Log Loss  0.381038\n",
          "output_type": "stream"
        }
      ],
      "execution_count": 51
    },
    {
      "cell_type": "code",
      "source": "LR_Accuracy_Score = \nLR_JaccardIndex = \nLR_F1_Score = \nLR_Log_Loss = ",
      "metadata": {},
      "outputs": [],
      "execution_count": null
    },
    {
      "cell_type": "markdown",
      "source": "### SVM\n",
      "metadata": {}
    },
    {
      "cell_type": "markdown",
      "source": "#### Q16) Create and train a SVM model called SVM using the training data (`x_train`, `y_train`).\n",
      "metadata": {}
    },
    {
      "cell_type": "code",
      "source": "#Enter Your Code and Execute\nfrom sklearn.svm import SVC\n\nSVM = SVC(random_state=1)\nSVM.fit(X_train, Y_train)\nprint(\"Number of Support Vectors:\", len(SVM.support_vectors_))",
      "metadata": {
        "trusted": true
      },
      "outputs": [
        {
          "name": "stdout",
          "text": "Number of Support Vectors: 1335\n",
          "output_type": "stream"
        }
      ],
      "execution_count": 52
    },
    {
      "cell_type": "code",
      "source": "SVM = ",
      "metadata": {},
      "outputs": [],
      "execution_count": null
    },
    {
      "cell_type": "markdown",
      "source": "#### Q17) Now use the `predict` method on the testing data (`x_test`) and save it to the array `predictions`.\n",
      "metadata": {}
    },
    {
      "cell_type": "code",
      "source": "#Enter Your Code and Execute\npredictions = SVM.predict(X_test)\nprint(\"Predictions:\", predictions)",
      "metadata": {
        "trusted": true
      },
      "outputs": [
        {
          "name": "stdout",
          "text": "Predictions: [0. 0. 0. 0. 0. 0. 0. 0. 0. 0. 0. 0. 0. 0. 0. 0. 0. 0. 0. 0. 0. 0. 0. 0.\n 0. 0. 0. 0. 0. 0. 0. 0. 0. 0. 0. 0. 0. 0. 0. 0. 0. 0. 0. 0. 0. 0. 0. 0.\n 0. 0. 0. 0. 0. 0. 0. 0. 0. 0. 0. 0. 0. 0. 0. 0. 0. 0. 0. 0. 0. 0. 0. 0.\n 0. 0. 0. 0. 0. 0. 0. 0. 0. 0. 0. 0. 0. 0. 0. 0. 0. 0. 0. 0. 0. 0. 0. 0.\n 0. 0. 0. 0. 0. 0. 0. 0. 0. 0. 0. 0. 0. 0. 0. 0. 0. 0. 0. 0. 0. 0. 0. 0.\n 0. 0. 0. 0. 0. 0. 0. 0. 0. 0. 0. 0. 0. 0. 0. 0. 0. 0. 0. 0. 0. 0. 0. 0.\n 0. 0. 0. 0. 0. 0. 0. 0. 0. 0. 0. 0. 0. 0. 0. 0. 0. 0. 0. 0. 0. 0. 0. 0.\n 0. 0. 0. 0. 0. 0. 0. 0. 0. 0. 0. 0. 0. 0. 0. 0. 0. 0. 0. 0. 0. 0. 0. 0.\n 0. 0. 0. 0. 0. 0. 0. 0. 0. 0. 0. 0. 0. 0. 0. 0. 0. 0. 0. 0. 0. 0. 0. 0.\n 0. 0. 0. 0. 0. 0. 0. 0. 0. 0. 0. 0. 0. 0. 0. 0. 0. 0. 0. 0. 0. 0. 0. 0.\n 0. 0. 0. 0. 0. 0. 0. 0. 0. 0. 0. 0. 0. 0. 0. 0. 0. 0. 0. 0. 0. 0. 0. 0.\n 0. 0. 0. 0. 0. 0. 0. 0. 0. 0. 0. 0. 0. 0. 0. 0. 0. 0. 0. 0. 0. 0. 0. 0.\n 0. 0. 0. 0. 0. 0. 0. 0. 0. 0. 0. 0. 0. 0. 0. 0. 0. 0. 0. 0. 0. 0. 0. 0.\n 0. 0. 0. 0. 0. 0. 0. 0. 0. 0. 0. 0. 0. 0. 0. 0. 0. 0. 0. 0. 0. 0. 0. 0.\n 0. 0. 0. 0. 0. 0. 0. 0. 0. 0. 0. 0. 0. 0. 0. 0. 0. 0. 0. 0. 0. 0. 0. 0.\n 0. 0. 0. 0. 0. 0. 0. 0. 0. 0. 0. 0. 0. 0. 0. 0. 0. 0. 0. 0. 0. 0. 0. 0.\n 0. 0. 0. 0. 0. 0. 0. 0. 0. 0. 0. 0. 0. 0. 0. 0. 0. 0. 0. 0. 0. 0. 0. 0.\n 0. 0. 0. 0. 0. 0. 0. 0. 0. 0. 0. 0. 0. 0. 0. 0. 0. 0. 0. 0. 0. 0. 0. 0.\n 0. 0. 0. 0. 0. 0. 0. 0. 0. 0. 0. 0. 0. 0. 0. 0. 0. 0. 0. 0. 0. 0. 0. 0.\n 0. 0. 0. 0. 0. 0. 0. 0. 0. 0. 0. 0. 0. 0. 0. 0. 0. 0. 0. 0. 0. 0. 0. 0.\n 0. 0. 0. 0. 0. 0. 0. 0. 0. 0. 0. 0. 0. 0. 0. 0. 0. 0. 0. 0. 0. 0. 0. 0.\n 0. 0. 0. 0. 0. 0. 0. 0. 0. 0. 0. 0. 0. 0. 0. 0. 0. 0. 0. 0. 0. 0. 0. 0.\n 0. 0. 0. 0. 0. 0. 0. 0. 0. 0. 0. 0. 0. 0. 0. 0. 0. 0. 0. 0. 0. 0. 0. 0.\n 0. 0. 0. 0. 0. 0. 0. 0. 0. 0. 0. 0. 0. 0. 0. 0. 0. 0. 0. 0. 0. 0. 0. 0.\n 0. 0. 0. 0. 0. 0. 0. 0. 0. 0. 0. 0. 0. 0. 0. 0. 0. 0. 0. 0. 0. 0. 0. 0.\n 0. 0. 0. 0. 0. 0. 0. 0. 0. 0. 0. 0. 0. 0. 0. 0. 0. 0. 0. 0. 0. 0. 0. 0.\n 0. 0. 0. 0. 0. 0. 0. 0. 0. 0. 0. 0. 0. 0. 0. 0. 0. 0. 0. 0. 0. 0. 0. 0.\n 0. 0. 0. 0. 0. 0. 0.]\n",
          "output_type": "stream"
        }
      ],
      "execution_count": 36
    },
    {
      "cell_type": "code",
      "source": "predictions = ",
      "metadata": {},
      "outputs": [],
      "execution_count": null
    },
    {
      "cell_type": "markdown",
      "source": "#### Q18) Using the `predictions` and the `y_test` dataframe calculate the value for each metric using the appropriate function.\n",
      "metadata": {}
    },
    {
      "cell_type": "code",
      "source": "from sklearn.metrics import accuracy_score, jaccard_score, f1_score, log_loss\npredict_proba = SVM.decision_function(X_test)\n\nSVM_Accuracy_Score = accuracy_score(Y_test, predictions)\nSVM_JaccardIndex = jaccard_score(Y_test, predictions)\nSVM_F1_Score = f1_score(Y_test, predictions)\nSVM_Log_Loss = log_loss(Y_test, predict_proba)\nmetrics_classification_df = pd.DataFrame({\n    'Metric': ['Accuracy Score', 'Jaccard Index', 'F1 Score', 'Log Loss'],\n    'Value': [SVM_Accuracy_Score, SVM_JaccardIndex, SVM_F1_Score, SVM_Log_Loss]\n})\nprint(metrics_classification_df)\n\n",
      "metadata": {
        "trusted": true
      },
      "outputs": [
        {
          "name": "stdout",
          "text": "           Metric      Value\n0  Accuracy Score   0.838168\n1   Jaccard Index   0.511521\n2        F1 Score   0.676829\n3        Log Loss  10.015183\n",
          "output_type": "stream"
        }
      ],
      "execution_count": 53
    },
    {
      "cell_type": "code",
      "source": "SVM_Accuracy_Score = \nSVM_JaccardIndex = \nSVM_F1_Score = ",
      "metadata": {},
      "outputs": [],
      "execution_count": null
    },
    {
      "cell_type": "markdown",
      "source": "### Report\n",
      "metadata": {}
    },
    {
      "cell_type": "markdown",
      "source": "#### Q19) Show the Accuracy,Jaccard Index,F1-Score and LogLoss in a tabular format using data frame for all of the above models.\n\n\\*LogLoss is only for Logistic Regression Model\n",
      "metadata": {}
    },
    {
      "cell_type": "code",
      "source": "import pandas as pd\nfrom sklearn.model_selection import train_test_split\nfrom sklearn.linear_model import LogisticRegression\nfrom sklearn.metrics import accuracy_score, jaccard_score, f1_score, log_loss\nfrom sklearn.neighbors import KNeighborsClassifier\nfrom sklearn.tree import DecisionTreeClassifier\nfrom sklearn.svm import SVC\n\n# Example: Assume df_sydney_processed is your DataFrame\n\n# Prepare features and target\nfeatures = df_sydney_processed.drop(columns='RainTomorrow', axis=1)\ny = df_sydney_processed['RainTomorrow']\n\n# Split the data\nX_train, X_test, y_train, y_test = train_test_split(features, y, test_size=0.2, random_state=1)\n\n# Train Logistic Regression\nLR = LogisticRegression(solver='liblinear')\nLR.fit(X_train, y_train)\n\n# Train KNN\nKNN = KNeighborsClassifier(n_neighbors=4)\nKNN.fit(X_train, y_train)\n\n# Train Decision Tree\nTree = DecisionTreeClassifier()\nTree.fit(X_train, y_train)\n\n# Train SVM\nSVM = SVC(probability=True)  # Ensure probability estimates are available\nSVM.fit(X_train, y_train)\n\n# Predictions and probabilities\npredictions_lr = LR.predict(X_test)\npredict_proba_lr = LR.predict_proba(X_test)\n\npredictions_knn = KNN.predict(X_test)\npredictions_tree = Tree.predict(X_test)\npredictions_svm = SVM.predict(X_test)\npredict_proba_svm = SVM.predict_proba(X_test)\n\n# Calculate metrics\nLR_Accuracy_Score = accuracy_score(y_test, predictions_lr)\nLR_Log_Loss = log_loss(y_test, predict_proba_lr)\n\nKNN_Accuracy_Score = accuracy_score(y_test, predictions_knn)\nKNN_JaccardIndex = jaccard_score(y_test, predictions_knn)\nKNN_F1_Score = f1_score(y_test, predictions_knn)\n\nTree_Accuracy_Score = accuracy_score(y_test, predictions_tree)\nTree_JaccardIndex = jaccard_score(y_test, predictions_tree)\nTree_F1_Score = f1_score(y_test, predictions_tree)\n\nSVM_Accuracy_Score = accuracy_score(y_test, predictions_svm)\nSVM_JaccardIndex = jaccard_score(y_test, predictions_svm)\nSVM_F1_Score = f1_score(y_test, predictions_svm)\nSVM_Log_Loss = log_loss(y_test, predict_proba_svm)\n\n# Create the metrics DataFrame\nmetrics_df = pd.DataFrame({\n    'Model': ['Logistic Regression', 'KNN', 'Decision Tree', 'SVM'],\n    'Accuracy Score': [\n        LR_Accuracy_Score, \n        KNN_Accuracy_Score, \n        Tree_Accuracy_Score, \n        SVM_Accuracy_Score\n    ],\n    'Jaccard Index': [\n        None,  # Not applicable for Logistic Regression\n        KNN_JaccardIndex, \n        Tree_JaccardIndex, \n        SVM_JaccardIndex\n    ],\n    'F1 Score': [\n        None,  # Not applicable for Logistic Regression\n        KNN_F1_Score, \n        Tree_F1_Score, \n        SVM_F1_Score\n    ],\n    'Log Loss': [\n        LR_Log_Loss, \n        None,  # Not applicable for KNN\n        None,  # Not applicable for Decision Tree\n        SVM_Log_Loss\n    ]\n})\n\n# Display the metrics DataFrame\nprint(metrics_df)\n",
      "metadata": {
        "trusted": true
      },
      "outputs": [
        {
          "name": "stdout",
          "text": "                 Model  Accuracy Score  Jaccard Index  F1 Score  Log Loss\n0  Logistic Regression        0.838168            NaN       NaN  0.381038\n1                  KNN        0.813740       0.399015  0.570423       NaN\n2        Decision Tree        0.778626       0.398340  0.569733       NaN\n3                  SVM        0.722137       0.000000  0.000000  0.417951\n",
          "output_type": "stream"
        }
      ],
      "execution_count": 57
    },
    {
      "cell_type": "markdown",
      "source": "<h2 id=\"Section_5\">  How to submit </h2>\n\n<p>Once you complete your notebook you will have to share it. You can download the notebook by navigating to \"File\" and clicking on \"Download\" button.\n\n<p>This will save the (.ipynb) file on your computer. Once saved, you can upload this file in the \"My Submission\" tab, of the \"Peer-graded Assignment\" section.  \n",
      "metadata": {}
    },
    {
      "cell_type": "markdown",
      "source": "<h2>About the Authors:</h2> \n\n<a href=\"https://www.linkedin.com/in/joseph-s-50398b136/?utm_medium=Exinfluencer&utm_source=Exinfluencer&utm_content=000026UJ&utm_term=10006555&utm_id=NA-SkillsNetwork-Channel-SkillsNetworkCoursesIBMDeveloperSkillsNetworkML0101ENSkillsNetwork20718538-2022-01-01\">Joseph Santarcangelo</a> has a PhD in Electrical Engineering, his research focused on using machine learning, signal processing, and computer vision to determine how videos impact human cognition. Joseph has been working for IBM since he completed his PhD.\n\n### Other Contributors\n\n[Svitlana Kramar](https://www.linkedin.com/in/svitlana-kramar/?utm_medium=Exinfluencer&utm_source=Exinfluencer&utm_content=000026UJ&utm_term=10006555&utm_id=NA-SkillsNetwork-Channel-SkillsNetworkCoursesIBMML0232ENSkillsNetwork30654641-2022-01-01)\n",
      "metadata": {}
    },
    {
      "cell_type": "markdown",
      "source": "## <h3 align=\"center\"> © IBM Corporation 2020. All rights reserved. <h3/>\n\n<!--\n## Change Log\n\n| Date (YYYY-MM-DD) | Version | Changed By    | Change Description          |\n| ----------------- | ------- | ------------- | --------------------------- |\n| 2022-06-22        | 2.0     | Svitlana K.   | Deleted GridSearch and Mock |\n--!>",
      "metadata": {}
    }
  ]
}